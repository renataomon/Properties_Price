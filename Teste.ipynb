{
  "nbformat": 4,
  "nbformat_minor": 0,
  "metadata": {
    "colab": {
      "name": "Teste.ipynb",
      "provenance": [],
      "authorship_tag": "ABX9TyMKXbLU1aKwYq9JTdgkzH3s",
      "include_colab_link": true
    },
    "kernelspec": {
      "name": "python3",
      "display_name": "Python 3"
    }
  },
  "cells": [
    {
      "cell_type": "markdown",
      "metadata": {
        "id": "view-in-github",
        "colab_type": "text"
      },
      "source": [
        "<a href=\"https://colab.research.google.com/github/renataomon/Properties_Price/blob/master/Teste.ipynb\" target=\"_parent\"><img src=\"https://colab.research.google.com/assets/colab-badge.svg\" alt=\"Open In Colab\"/></a>"
      ]
    },
    {
      "cell_type": "code",
      "metadata": {
        "id": "SRy5zAqFpBdP",
        "cellView": "both"
      },
      "source": [
        "#@title\n",
        "# Install PyDrive\n",
        "!pip install PyDrive\n",
        "\n",
        "#Import modules\n",
        "from pydrive.auth import GoogleAuth\n",
        "from pydrive.drive import GoogleDrive\n",
        "from google.colab import auth\n",
        "from oauth2client.client import GoogleCredentials\n",
        "\n",
        "#Authenticate and create the PyDrive client\n",
        "auth.authenticate_user()\n",
        "gauth = GoogleAuth()\n",
        "gauth.credentials = GoogleCredentials.get_application_default()\n",
        "drive = GoogleDrive(gauth)\n",
        "\n",
        "#Get the Shareable link\n",
        "#Ex link : https://drive.google.com/file/d/1la5K5FAvceB1L_kpC4lKhnLjedvWoSUv/view?usp=sharing\n",
        "# Get the id from the link 1c7Ffo1Go1dtUpKcSWxdbdVyW4dfhEoUp\n",
        "downloaded = drive.CreateFile({'id':\"1la5K5FAvceB1L_kpC4lKhnLjedvWoSUv\"})   \n",
        "downloaded.GetContentFile('sales_sp_2017_3.csv')       \n",
        "\n",
        "#Read data\n",
        "import pandas as pd\n",
        "df = pd.read_csv(\"sales_sp_2017_3.csv\")"
      ],
      "execution_count": null,
      "outputs": []
    },
    {
      "cell_type": "code",
      "metadata": {
        "id": "UnPXscdaphmt"
      },
      "source": [
        "df.head"
      ],
      "execution_count": null,
      "outputs": []
    }
  ]
}