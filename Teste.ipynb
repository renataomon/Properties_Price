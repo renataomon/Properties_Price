{
  "nbformat": 4,
  "nbformat_minor": 0,
  "metadata": {
    "colab": {
      "name": "Untitled6.ipynb",
      "provenance": [],
      "authorship_tag": "ABX9TyMomHNu9jCB39FalDxPnPrD",
      "include_colab_link": true
    },
    "kernelspec": {
      "name": "python3",
      "display_name": "Python 3"
    }
  },
  "cells": [
    {
      "cell_type": "markdown",
      "metadata": {
        "id": "view-in-github",
        "colab_type": "text"
      },
      "source": [
        "<a href=\"https://colab.research.google.com/github/renataomon/Properties_Price/blob/master/Teste.ipynb\" target=\"_parent\"><img src=\"https://colab.research.google.com/assets/colab-badge.svg\" alt=\"Open In Colab\"/></a>"
      ]
    },
    {
      "cell_type": "code",
      "metadata": {
        "id": "fOTFs9bdopZO"
      },
      "source": [
        "import pandas as pd"
      ],
      "execution_count": 1,
      "outputs": []
    },
    {
      "cell_type": "code",
      "metadata": {
        "id": "UnPXscdaphmt",
        "outputId": "48636e9d-7ba7-49de-d9d1-bde869ce09bd",
        "colab": {
          "base_uri": "https://localhost:8080/",
          "height": 255
        }
      },
      "source": [
        "df.head"
      ],
      "execution_count": 4,
      "outputs": [
        {
          "output_type": "execute_result",
          "data": {
            "text/plain": [
              "<bound method NDFrame.head of        created_on property_type  ... metro num_rooms\n",
              "0      2017-01-13     apartment  ...     1         0\n",
              "1      2017-01-11     apartment  ...     0         1\n",
              "2      2017-01-29     apartment  ...     0         3\n",
              "3      2017-02-18     apartment  ...     0         3\n",
              "4      2017-02-15     apartment  ...     0         2\n",
              "...           ...           ...  ...   ...       ...\n",
              "62384  2017-08-21     apartment  ...     1         3\n",
              "62385  2017-06-01     apartment  ...     0         2\n",
              "62386  2017-06-01     apartment  ...     0         2\n",
              "62387  2017-08-21     apartment  ...     0         2\n",
              "62388  2017-06-14     apartment  ...     1         1\n",
              "\n",
              "[62389 rows x 17 columns]>"
            ]
          },
          "metadata": {
            "tags": []
          },
          "execution_count": 4
        }
      ]
    }
  ]
}